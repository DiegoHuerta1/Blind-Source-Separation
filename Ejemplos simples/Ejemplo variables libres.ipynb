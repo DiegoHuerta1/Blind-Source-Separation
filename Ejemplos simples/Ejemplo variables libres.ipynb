{
 "cells": [
  {
   "cell_type": "markdown",
   "id": "3d69c70a",
   "metadata": {},
   "source": [
    "# Determinar libertad calculando cumulantes mixtos\n",
    "\n",
    "En el caso libre, y valuado en operadores"
   ]
  },
  {
   "cell_type": "code",
   "execution_count": 1,
   "id": "c4a8a403",
   "metadata": {},
   "outputs": [],
   "source": [
    "import numpy as np\n",
    "import matplotlib.pyplot as plt\n",
    "from skimage import io, transform"
   ]
  },
  {
   "cell_type": "code",
   "execution_count": 2,
   "id": "4a86ced7",
   "metadata": {},
   "outputs": [],
   "source": [
    "import sys\n",
    "import os\n",
    "parent_dir = os.path.abspath(os.path.join(os.getcwd(), \"..\"))\n",
    "sys.path.insert(0, parent_dir)"
   ]
  },
  {
   "cell_type": "code",
   "execution_count": 3,
   "id": "1af1f4aa",
   "metadata": {},
   "outputs": [],
   "source": [
    "from Independence import Free_Independence, OV_Independence"
   ]
  },
  {
   "cell_type": "markdown",
   "id": "3f540953",
   "metadata": {},
   "source": [
    "## Checar si dos variables A y B son libres \n",
    "\n",
    "Calcular los cumulantes mixtos"
   ]
  },
  {
   "cell_type": "code",
   "execution_count": 4,
   "id": "6e2da6a9",
   "metadata": {},
   "outputs": [],
   "source": [
    "# en el espacio de estas variables\n",
    "# definir multiplicacion y funcional lineal\n",
    "\n",
    "# funcional lineal\n",
    "def phi(Z):\n",
    "    return 1/N * Z.trace()\n",
    "# multiplicacion\n",
    "def multiply(Z1, Z2):\n",
    "    return Z1 @ Z2"
   ]
  },
  {
   "cell_type": "markdown",
   "id": "be9e6de7",
   "metadata": {},
   "source": [
    "**Definir las variables A y B**"
   ]
  },
  {
   "cell_type": "code",
   "execution_count": 5,
   "id": "489257d2",
   "metadata": {},
   "outputs": [],
   "source": [
    "N = 100\n",
    "M1 = 200\n",
    "M2 = 100\n",
    "aux1 = np.random.randn(N, M1)\n",
    "aux2 = np.random.randn(N, M2)"
   ]
  },
  {
   "cell_type": "code",
   "execution_count": 6,
   "id": "0b610242",
   "metadata": {},
   "outputs": [],
   "source": [
    "# # definir las variables A y B\n",
    "A = (aux1 @ aux1.T)/(M1*N)\n",
    "B = (aux2 @ aux2.T)/(M2*N)"
   ]
  },
  {
   "cell_type": "code",
   "execution_count": 7,
   "id": "6e7436f6",
   "metadata": {},
   "outputs": [],
   "source": [
    "# # definir las variables A y B\n",
    "# A = (aux1 @ aux1.T)/(M1)\n",
    "# B = (aux2 @ aux2.T)/(M2)"
   ]
  },
  {
   "cell_type": "code",
   "execution_count": 8,
   "id": "d44815e8",
   "metadata": {},
   "outputs": [],
   "source": [
    "# # definir las variables A y B\n",
    "# A = (aux1 @ aux1.T)\n",
    "# B = (aux2 @ aux2.T)"
   ]
  },
  {
   "cell_type": "code",
   "execution_count": 9,
   "id": "8a70638f",
   "metadata": {},
   "outputs": [
    {
     "name": "stdout",
     "output_type": "stream",
     "text": [
      "κ(('A', 'B')) = -1.5844233572214893e-06\n",
      "κ(('A', 'A', 'B')) = -9.867540776954727e-09\n",
      "κ(('A', 'B', 'B')) = -2.243803131899892e-08\n",
      "κ(('A', 'A', 'A', 'B')) = -5.5987439130014136e-11\n",
      "κ(('A', 'A', 'B', 'B')) = -1.4419713085157728e-10\n",
      "κ(('A', 'B', 'A', 'B')) = -1.1316068509984697e-10\n",
      "κ(('A', 'B', 'B', 'B')) = -3.0113641613303727e-10\n",
      "κ(('A', 'A', 'A', 'A', 'B')) = -1.1174323879802605e-13\n",
      "κ(('A', 'A', 'A', 'B', 'B')) = -9.509598937432747e-13\n",
      "κ(('A', 'A', 'B', 'A', 'B')) = -1.717930707399043e-13\n",
      "κ(('A', 'A', 'B', 'B', 'B')) = -7.23188189186033e-13\n",
      "κ(('A', 'B', 'A', 'B', 'B')) = -1.4611140915195868e-12\n",
      "κ(('A', 'B', 'B', 'B', 'B')) = -3.390063581247257e-12\n",
      "κ(('A', 'A', 'A', 'A', 'A', 'B')) = 4.572051287388089e-16\n",
      "κ(('A', 'A', 'A', 'A', 'B', 'B')) = -5.630723646961093e-15\n",
      "κ(('A', 'A', 'A', 'B', 'A', 'B')) = 1.3895362367426274e-15\n",
      "κ(('A', 'A', 'A', 'B', 'B', 'B')) = -8.901368255016521e-15\n",
      "κ(('A', 'A', 'B', 'A', 'A', 'B')) = -2.984448090192385e-15\n",
      "κ(('A', 'A', 'B', 'A', 'B', 'B')) = 4.538348108185328e-16\n",
      "κ(('A', 'A', 'B', 'B', 'A', 'B')) = 4.538348108218633e-16\n",
      "κ(('A', 'A', 'B', 'B', 'B', 'B')) = 2.0160876098933034e-14\n",
      "κ(('A', 'B', 'A', 'B', 'A', 'B')) = -1.3251822371460753e-14\n",
      "κ(('A', 'B', 'A', 'B', 'B', 'B')) = -1.991923475100606e-14\n",
      "κ(('A', 'B', 'B', 'A', 'B', 'B')) = -2.276198301126864e-14\n",
      "κ(('A', 'B', 'B', 'B', 'B', 'B')) = -2.7760143241880284e-14\n"
     ]
    }
   ],
   "source": [
    "# calcular cumulantes mixtos de las variables\n",
    "test = Free_Independence(A, B, functional_phi = phi, product = multiply)\n",
    "res = test.check_mixed_cumulants(max_order = 6, print_results = True)"
   ]
  },
  {
   "cell_type": "markdown",
   "id": "5deb067d",
   "metadata": {},
   "source": [
    "**Comprobar que mi codigo calcule las cosas correctamente.**"
   ]
  },
  {
   "cell_type": "code",
   "execution_count": 10,
   "id": "0af38df0",
   "metadata": {},
   "outputs": [
    {
     "name": "stdout",
     "output_type": "stream",
     "text": [
      "-1.5844233572214893e-06\n",
      "-1.5844233572214893e-06\n"
     ]
    }
   ],
   "source": [
    "# comprobar k(A, B)\n",
    "print(phi(A @ B) - phi(A) * phi(B))\n",
    "print(test.evaluate_cumulant((\"A\", \"B\")))"
   ]
  },
  {
   "cell_type": "code",
   "execution_count": 11,
   "id": "3157246a",
   "metadata": {},
   "outputs": [
    {
     "name": "stdout",
     "output_type": "stream",
     "text": [
      "-9.867540776955045e-09\n",
      "-9.867540776954727e-09\n"
     ]
    }
   ],
   "source": [
    "# comprobar k(A, B, A)\n",
    "print(phi(A @ B @ A) - phi(A)*phi(A@B) - phi(A@B)*phi(A) - phi(A@A)*phi(B) + 2*phi(A)*phi(B)*phi(A))\n",
    "print(test.evaluate_cumulant((\"A\", \"B\", \"A\")))"
   ]
  },
  {
   "cell_type": "code",
   "execution_count": 12,
   "id": "d1f42674",
   "metadata": {},
   "outputs": [
    {
     "name": "stdout",
     "output_type": "stream",
     "text": [
      "-2.243803131899937e-08\n",
      "-2.243803131899892e-08\n"
     ]
    }
   ],
   "source": [
    "# comprobar k(B, A, B)\n",
    "print(phi(B @ A @ B) - phi(B)*phi(B@A) - phi(B@A)*phi(B) - phi(B@B)*phi(A) + 2*phi(B)*phi(A)*phi(B))\n",
    "print(test.evaluate_cumulant((\"B\", \"A\", \"B\")))"
   ]
  },
  {
   "cell_type": "markdown",
   "id": "3b524ed7",
   "metadata": {},
   "source": [
    "**Ver numeros de ejeucciones**"
   ]
  },
  {
   "cell_type": "code",
   "execution_count": 13,
   "id": "f3615840",
   "metadata": {},
   "outputs": [
    {
     "name": "stdout",
     "output_type": "stream",
     "text": [
      "Evalauciones de cumulantes: 35\n",
      "Evalauciones de phi: 35\n"
     ]
    }
   ],
   "source": [
    "# ver cuantas evaluaciones de phi y de cumulantes\n",
    "print(f\"Evalauciones de cumulantes: {len(test.cumulant_evaluation)}\")\n",
    "print(f\"Evalauciones de phi: {len(test.phi_evaluation)}\")"
   ]
  },
  {
   "cell_type": "code",
   "execution_count": 14,
   "id": "3e4d977d",
   "metadata": {},
   "outputs": [
    {
     "name": "stdout",
     "output_type": "stream",
     "text": [
      "35\n",
      "6771\n"
     ]
    }
   ],
   "source": [
    "print(test.not_saved_cumulant_evaluation)\n",
    "print(test.saved_cumulant_evaluation)"
   ]
  },
  {
   "cell_type": "markdown",
   "id": "b132c5e3",
   "metadata": {},
   "source": [
    "## Checar si dos variables A y B son libres con amalgación\n",
    "\n",
    "Calcular los cumulantes mixtos"
   ]
  },
  {
   "cell_type": "code",
   "execution_count": 15,
   "id": "3af4b2fb",
   "metadata": {},
   "outputs": [],
   "source": [
    "N = 100\n",
    "\n",
    "M1 = 200\n",
    "M2 = 40\n",
    "M3 = 60\n",
    "M4 = 80"
   ]
  },
  {
   "cell_type": "code",
   "execution_count": 16,
   "id": "2362e3f1",
   "metadata": {},
   "outputs": [],
   "source": [
    "# gaussian NxM\n",
    "aux1 = np.random.randn(N, M1)\n",
    "aux2 = np.random.randn(N, M2)\n",
    "aux3 = np.random.randn(N, M3)\n",
    "aux4 = np.random.randn(N, M4)\n",
    "\n",
    "# elementos\n",
    "auxx1 = (aux1 @ aux1.T) / (M1*N)\n",
    "auxx2 = (aux2 @ aux2.T) / (M2*N)\n",
    "auxx3 = (aux3 @ aux3.T) / (M3*N)\n",
    "auxx4 = (aux4 @ aux4.T) / (M4*N)"
   ]
  },
  {
   "cell_type": "code",
   "execution_count": 17,
   "id": "8ffaaf7d",
   "metadata": {},
   "outputs": [],
   "source": [
    "# elementos\n",
    "auxx1 = (aux1 @ aux1.T) / (M1)\n",
    "auxx2 = (aux2 @ aux2.T) / (M2)\n",
    "auxx3 = (aux3 @ aux3.T) / (M3)\n",
    "auxx4 = (aux4 @ aux4.T) / (M4)"
   ]
  },
  {
   "cell_type": "code",
   "execution_count": 18,
   "id": "585271d6",
   "metadata": {},
   "outputs": [],
   "source": [
    "# # elementos\n",
    "# auxx1 = (aux1 @ aux1.T) \n",
    "# auxx2 = (aux2 @ aux2.T) \n",
    "# auxx3 = (aux3 @ aux3.T) \n",
    "# auxx4 = (aux4 @ aux4.T) "
   ]
  },
  {
   "cell_type": "code",
   "execution_count": 19,
   "id": "82be828d",
   "metadata": {},
   "outputs": [],
   "source": [
    "# definir las variables A y B en formato que se pide para OV\n",
    "A = {(1, 1): auxx1, (1, 2): auxx2, (2, 1): auxx2, (2, 2): auxx1}\n",
    "B = {(1, 1): auxx3, (1, 2): auxx4, (2, 1): auxx4, (2, 2): auxx3}\n",
    "\n",
    "# hacerlas como matrices a bloques para la comprobacion\n",
    "matriz_A = np.block([[auxx1, auxx2], [auxx2, auxx1]])\n",
    "matriz_B = np.block([[auxx3, auxx4], [auxx4, auxx3]])"
   ]
  },
  {
   "cell_type": "code",
   "execution_count": 20,
   "id": "103be563",
   "metadata": {
    "scrolled": true
   },
   "outputs": [
    {
     "name": "stdout",
     "output_type": "stream",
     "text": [
      "κ^(B)(('A', 'B')) = \n",
      "[[0.03692421 0.02940263]\n",
      " [0.02940263 0.03692421]]\n",
      "--\n",
      "κ^(B)(('B', 'A')) = \n",
      "[[0.03692421 0.02940263]\n",
      " [0.02940263 0.03692421]]\n",
      "--\n",
      "κ^(B)(('A', 'A', 'B')) = \n",
      "[[0.0637045  0.16732565]\n",
      " [0.16732565 0.0637045 ]]\n",
      "--\n",
      "κ^(B)(('A', 'B', 'A')) = \n",
      "[[0.0637045  0.16732565]\n",
      " [0.16732565 0.0637045 ]]\n",
      "--\n",
      "κ^(B)(('A', 'B', 'B')) = \n",
      "[[-0.03699519  0.13306767]\n",
      " [ 0.13306767 -0.03699519]]\n",
      "--\n",
      "κ^(B)(('B', 'A', 'A')) = \n",
      "[[0.0637045  0.16732565]\n",
      " [0.16732565 0.0637045 ]]\n",
      "--\n",
      "κ^(B)(('B', 'A', 'B')) = \n",
      "[[-0.03699519  0.13306767]\n",
      " [ 0.13306767 -0.03699519]]\n",
      "--\n",
      "κ^(B)(('B', 'B', 'A')) = \n",
      "[[-0.03699519  0.13306767]\n",
      " [ 0.13306767 -0.03699519]]\n",
      "--\n",
      "κ^(B)(('A', 'A', 'A', 'B')) = \n",
      "[[0.33563628 0.2627534 ]\n",
      " [0.2627534  0.33563628]]\n",
      "--\n",
      "κ^(B)(('A', 'A', 'B', 'A')) = \n",
      "[[0.33563628 0.2627534 ]\n",
      " [0.2627534  0.33563628]]\n",
      "--\n",
      "κ^(B)(('A', 'A', 'B', 'B')) = \n",
      "[[ 0.54478222 -0.08653526]\n",
      " [-0.08653526  0.54478222]]\n",
      "--\n",
      "κ^(B)(('A', 'B', 'A', 'A')) = \n",
      "[[0.33563628 0.2627534 ]\n",
      " [0.2627534  0.33563628]]\n",
      "--\n",
      "κ^(B)(('A', 'B', 'A', 'B')) = \n",
      "[[-0.12503781  0.13451596]\n",
      " [ 0.13451596 -0.12503781]]\n",
      "--\n",
      "κ^(B)(('A', 'B', 'B', 'A')) = \n",
      "[[ 0.54478222 -0.08653526]\n",
      " [-0.08653526  0.54478222]]\n",
      "--\n",
      "κ^(B)(('A', 'B', 'B', 'B')) = \n",
      "[[-0.02004125  0.0427318 ]\n",
      " [ 0.0427318  -0.02004125]]\n",
      "--\n",
      "κ^(B)(('B', 'A', 'A', 'A')) = \n",
      "[[0.33563628 0.2627534 ]\n",
      " [0.2627534  0.33563628]]\n",
      "--\n",
      "κ^(B)(('B', 'A', 'A', 'B')) = \n",
      "[[ 0.54478222 -0.08653526]\n",
      " [-0.08653526  0.54478222]]\n",
      "--\n",
      "κ^(B)(('B', 'A', 'B', 'A')) = \n",
      "[[-0.12503781  0.13451596]\n",
      " [ 0.13451596 -0.12503781]]\n",
      "--\n",
      "κ^(B)(('B', 'A', 'B', 'B')) = \n",
      "[[-0.02004125  0.0427318 ]\n",
      " [ 0.0427318  -0.02004125]]\n",
      "--\n",
      "κ^(B)(('B', 'B', 'A', 'A')) = \n",
      "[[ 0.54478222 -0.08653526]\n",
      " [-0.08653526  0.54478222]]\n",
      "--\n",
      "κ^(B)(('B', 'B', 'A', 'B')) = \n",
      "[[-0.02004125  0.0427318 ]\n",
      " [ 0.0427318  -0.02004125]]\n",
      "--\n",
      "κ^(B)(('B', 'B', 'B', 'A')) = \n",
      "[[-0.02004125  0.0427318 ]\n",
      " [ 0.0427318  -0.02004125]]\n",
      "--\n",
      "κ^(B)(('A', 'A', 'A', 'A', 'B')) = \n",
      "[[0.61649113 0.44731753]\n",
      " [0.44731753 0.61649113]]\n",
      "--\n",
      "κ^(B)(('A', 'A', 'A', 'B', 'A')) = \n",
      "[[0.61649113 0.44731753]\n",
      " [0.44731753 0.61649113]]\n",
      "--\n",
      "κ^(B)(('A', 'A', 'A', 'B', 'B')) = \n",
      "[[0.28068914 1.29963648]\n",
      " [1.29963648 0.28068914]]\n",
      "--\n",
      "κ^(B)(('A', 'A', 'B', 'A', 'A')) = \n",
      "[[0.61649113 0.44731753]\n",
      " [0.44731753 0.61649113]]\n",
      "--\n",
      "κ^(B)(('A', 'A', 'B', 'A', 'B')) = \n",
      "[[ 0.02961364 -0.62278073]\n",
      " [-0.62278073  0.02961364]]\n",
      "--\n",
      "κ^(B)(('A', 'A', 'B', 'B', 'A')) = \n",
      "[[0.28068914 1.29963648]\n",
      " [1.29963648 0.28068914]]\n",
      "--\n",
      "κ^(B)(('A', 'A', 'B', 'B', 'B')) = \n",
      "[[0.12516348 0.11091288]\n",
      " [0.11091288 0.12516348]]\n",
      "--\n",
      "κ^(B)(('A', 'B', 'A', 'A', 'A')) = \n",
      "[[0.61649113 0.44731753]\n",
      " [0.44731753 0.61649113]]\n",
      "--\n",
      "κ^(B)(('A', 'B', 'A', 'A', 'B')) = \n",
      "[[ 0.02961364 -0.62278073]\n",
      " [-0.62278073  0.02961364]]\n",
      "--\n",
      "κ^(B)(('A', 'B', 'A', 'B', 'A')) = \n",
      "[[ 0.02961364 -0.62278073]\n",
      " [-0.62278073  0.02961364]]\n",
      "--\n",
      "κ^(B)(('A', 'B', 'A', 'B', 'B')) = \n",
      "[[-0.04044157 -0.04906042]\n",
      " [-0.04906042 -0.04044157]]\n",
      "--\n",
      "κ^(B)(('A', 'B', 'B', 'A', 'A')) = \n",
      "[[0.28068914 1.29963648]\n",
      " [1.29963648 0.28068914]]\n",
      "--\n",
      "κ^(B)(('A', 'B', 'B', 'A', 'B')) = \n",
      "[[-0.04044157 -0.04906042]\n",
      " [-0.04906042 -0.04044157]]\n",
      "--\n",
      "κ^(B)(('A', 'B', 'B', 'B', 'A')) = \n",
      "[[0.12516348 0.11091288]\n",
      " [0.11091288 0.12516348]]\n",
      "--\n",
      "κ^(B)(('A', 'B', 'B', 'B', 'B')) = \n",
      "[[-0.14826796 -0.26224995]\n",
      " [-0.26224995 -0.14826796]]\n",
      "--\n",
      "κ^(B)(('B', 'A', 'A', 'A', 'A')) = \n",
      "[[0.61649113 0.44731753]\n",
      " [0.44731753 0.61649113]]\n",
      "--\n",
      "κ^(B)(('B', 'A', 'A', 'A', 'B')) = \n",
      "[[0.28068914 1.29963648]\n",
      " [1.29963648 0.28068914]]\n",
      "--\n",
      "κ^(B)(('B', 'A', 'A', 'B', 'A')) = \n",
      "[[ 0.02961364 -0.62278073]\n",
      " [-0.62278073  0.02961364]]\n",
      "--\n",
      "κ^(B)(('B', 'A', 'A', 'B', 'B')) = \n",
      "[[0.12516348 0.11091288]\n",
      " [0.11091288 0.12516348]]\n",
      "--\n",
      "κ^(B)(('B', 'A', 'B', 'A', 'A')) = \n",
      "[[ 0.02961364 -0.62278073]\n",
      " [-0.62278073  0.02961364]]\n",
      "--\n",
      "κ^(B)(('B', 'A', 'B', 'A', 'B')) = \n",
      "[[-0.04044157 -0.04906042]\n",
      " [-0.04906042 -0.04044157]]\n",
      "--\n",
      "κ^(B)(('B', 'A', 'B', 'B', 'A')) = \n",
      "[[-0.04044157 -0.04906042]\n",
      " [-0.04906042 -0.04044157]]\n",
      "--\n",
      "κ^(B)(('B', 'A', 'B', 'B', 'B')) = \n",
      "[[-0.14826796 -0.26224995]\n",
      " [-0.26224995 -0.14826796]]\n",
      "--\n",
      "κ^(B)(('B', 'B', 'A', 'A', 'A')) = \n",
      "[[0.28068914 1.29963648]\n",
      " [1.29963648 0.28068914]]\n",
      "--\n",
      "κ^(B)(('B', 'B', 'A', 'A', 'B')) = \n",
      "[[0.12516348 0.11091288]\n",
      " [0.11091288 0.12516348]]\n",
      "--\n",
      "κ^(B)(('B', 'B', 'A', 'B', 'A')) = \n",
      "[[-0.04044157 -0.04906042]\n",
      " [-0.04906042 -0.04044157]]\n",
      "--\n",
      "κ^(B)(('B', 'B', 'A', 'B', 'B')) = \n",
      "[[-0.14826796 -0.26224995]\n",
      " [-0.26224995 -0.14826796]]\n",
      "--\n",
      "κ^(B)(('B', 'B', 'B', 'A', 'A')) = \n",
      "[[0.12516348 0.11091288]\n",
      " [0.11091288 0.12516348]]\n",
      "--\n",
      "κ^(B)(('B', 'B', 'B', 'A', 'B')) = \n",
      "[[-0.14826796 -0.26224995]\n",
      " [-0.26224995 -0.14826796]]\n",
      "--\n",
      "κ^(B)(('B', 'B', 'B', 'B', 'A')) = \n",
      "[[-0.14826796 -0.26224995]\n",
      " [-0.26224995 -0.14826796]]\n",
      "--\n",
      "κ^(B)(('A', 'A', 'A', 'A', 'A', 'B')) = \n",
      "[[-1.26441901  1.33970219]\n",
      " [ 1.33970219 -1.26441901]]\n",
      "--\n",
      "κ^(B)(('A', 'A', 'A', 'A', 'B', 'A')) = \n",
      "[[-1.26441901  1.33970219]\n",
      " [ 1.33970219 -1.26441901]]\n",
      "--\n",
      "κ^(B)(('A', 'A', 'A', 'A', 'B', 'B')) = \n",
      "[[3.09424441 2.48790873]\n",
      " [2.48790873 3.09424441]]\n",
      "--\n",
      "κ^(B)(('A', 'A', 'A', 'B', 'A', 'A')) = \n",
      "[[-1.26441901  1.33970219]\n",
      " [ 1.33970219 -1.26441901]]\n",
      "--\n",
      "κ^(B)(('A', 'A', 'A', 'B', 'A', 'B')) = \n",
      "[[-2.26045477  0.32968604]\n",
      " [ 0.32968604 -2.26045477]]\n",
      "--\n",
      "κ^(B)(('A', 'A', 'A', 'B', 'B', 'A')) = \n",
      "[[3.09424441 2.48790873]\n",
      " [2.48790873 3.09424441]]\n",
      "--\n",
      "κ^(B)(('A', 'A', 'A', 'B', 'B', 'B')) = \n",
      "[[-0.00161035  0.44422768]\n",
      " [ 0.44422768 -0.00161035]]\n",
      "--\n",
      "κ^(B)(('A', 'A', 'B', 'A', 'A', 'A')) = \n",
      "[[-1.26441901  1.33970219]\n",
      " [ 1.33970219 -1.26441901]]\n",
      "--\n",
      "κ^(B)(('A', 'A', 'B', 'A', 'A', 'B')) = \n",
      "[[-1.58898056 -0.80127328]\n",
      " [-0.80127328 -1.58898056]]\n",
      "--\n",
      "κ^(B)(('A', 'A', 'B', 'A', 'B', 'A')) = \n",
      "[[-2.26045477  0.32968604]\n",
      " [ 0.32968604 -2.26045477]]\n",
      "--\n",
      "κ^(B)(('A', 'A', 'B', 'A', 'B', 'B')) = \n",
      "[[-0.08985111 -0.91526487]\n",
      " [-0.91526487 -0.08985111]]\n",
      "--\n",
      "κ^(B)(('A', 'A', 'B', 'B', 'A', 'A')) = \n",
      "[[3.09424441 2.48790873]\n",
      " [2.48790873 3.09424441]]\n",
      "--\n",
      "κ^(B)(('A', 'A', 'B', 'B', 'A', 'B')) = \n",
      "[[-0.08985111 -0.91526487]\n",
      " [-0.91526487 -0.08985111]]\n",
      "--\n",
      "κ^(B)(('A', 'A', 'B', 'B', 'B', 'A')) = \n",
      "[[-0.00161035  0.44422768]\n",
      " [ 0.44422768 -0.00161035]]\n",
      "--\n",
      "κ^(B)(('A', 'A', 'B', 'B', 'B', 'B')) = \n",
      "[[ 0.72613771 -2.20291394]\n",
      " [-2.20291394  0.72613771]]\n",
      "--\n",
      "κ^(B)(('A', 'B', 'A', 'A', 'A', 'A')) = \n",
      "[[-1.26441901  1.33970219]\n",
      " [ 1.33970219 -1.26441901]]\n",
      "--\n",
      "κ^(B)(('A', 'B', 'A', 'A', 'A', 'B')) = \n",
      "[[-2.26045477  0.32968604]\n",
      " [ 0.32968604 -2.26045477]]\n",
      "--\n",
      "κ^(B)(('A', 'B', 'A', 'A', 'B', 'A')) = \n",
      "[[-1.58898056 -0.80127328]\n",
      " [-0.80127328 -1.58898056]]\n",
      "--\n",
      "κ^(B)(('A', 'B', 'A', 'A', 'B', 'B')) = \n",
      "[[-0.08985111 -0.91526487]\n",
      " [-0.91526487 -0.08985111]]\n",
      "--\n",
      "κ^(B)(('A', 'B', 'A', 'B', 'A', 'A')) = \n",
      "[[-2.26045477  0.32968604]\n",
      " [ 0.32968604 -2.26045477]]\n",
      "--\n",
      "κ^(B)(('A', 'B', 'A', 'B', 'A', 'B')) = \n",
      "[[-0.96777849 -0.07292454]\n",
      " [-0.07292454 -0.96777849]]\n",
      "--\n",
      "κ^(B)(('A', 'B', 'A', 'B', 'B', 'A')) = \n",
      "[[-0.08985111 -0.91526487]\n",
      " [-0.91526487 -0.08985111]]\n",
      "--\n",
      "κ^(B)(('A', 'B', 'A', 'B', 'B', 'B')) = \n",
      "[[-0.16710513  0.43120753]\n",
      " [ 0.43120753 -0.16710513]]\n",
      "--\n",
      "κ^(B)(('A', 'B', 'B', 'A', 'A', 'A')) = \n",
      "[[3.09424441 2.48790873]\n",
      " [2.48790873 3.09424441]]\n",
      "--\n",
      "κ^(B)(('A', 'B', 'B', 'A', 'A', 'B')) = \n",
      "[[-0.08985111 -0.91526487]\n",
      " [-0.91526487 -0.08985111]]\n",
      "--\n",
      "κ^(B)(('A', 'B', 'B', 'A', 'B', 'A')) = \n",
      "[[-0.08985111 -0.91526487]\n",
      " [-0.91526487 -0.08985111]]\n",
      "--\n",
      "κ^(B)(('A', 'B', 'B', 'A', 'B', 'B')) = \n",
      "[[-0.62071597  0.90261054]\n",
      " [ 0.90261054 -0.62071597]]\n",
      "--\n",
      "κ^(B)(('A', 'B', 'B', 'B', 'A', 'A')) = \n",
      "[[-0.00161035  0.44422768]\n",
      " [ 0.44422768 -0.00161035]]\n",
      "--\n",
      "κ^(B)(('A', 'B', 'B', 'B', 'A', 'B')) = \n",
      "[[-0.16710513  0.43120753]\n",
      " [ 0.43120753 -0.16710513]]\n",
      "--\n",
      "κ^(B)(('A', 'B', 'B', 'B', 'B', 'A')) = \n",
      "[[ 0.72613771 -2.20291394]\n",
      " [-2.20291394  0.72613771]]\n",
      "--\n",
      "κ^(B)(('A', 'B', 'B', 'B', 'B', 'B')) = \n",
      "[[-0.61993564 -1.65122296]\n",
      " [-1.65122296 -0.61993564]]\n",
      "--\n",
      "κ^(B)(('B', 'A', 'A', 'A', 'A', 'A')) = \n",
      "[[-1.26441901  1.33970219]\n",
      " [ 1.33970219 -1.26441901]]\n",
      "--\n",
      "κ^(B)(('B', 'A', 'A', 'A', 'A', 'B')) = \n",
      "[[3.09424441 2.48790873]\n",
      " [2.48790873 3.09424441]]\n",
      "--\n",
      "κ^(B)(('B', 'A', 'A', 'A', 'B', 'A')) = \n",
      "[[-2.26045477  0.32968604]\n",
      " [ 0.32968604 -2.26045477]]\n",
      "--\n",
      "κ^(B)(('B', 'A', 'A', 'A', 'B', 'B')) = \n",
      "[[-0.00161035  0.44422768]\n",
      " [ 0.44422768 -0.00161035]]\n",
      "--\n",
      "κ^(B)(('B', 'A', 'A', 'B', 'A', 'A')) = \n",
      "[[-1.58898056 -0.80127328]\n",
      " [-0.80127328 -1.58898056]]\n",
      "--\n",
      "κ^(B)(('B', 'A', 'A', 'B', 'A', 'B')) = \n",
      "[[-0.08985111 -0.91526487]\n",
      " [-0.91526487 -0.08985111]]\n",
      "--\n",
      "κ^(B)(('B', 'A', 'A', 'B', 'B', 'A')) = \n",
      "[[-0.08985111 -0.91526487]\n",
      " [-0.91526487 -0.08985111]]\n",
      "--\n"
     ]
    },
    {
     "name": "stdout",
     "output_type": "stream",
     "text": [
      "κ^(B)(('B', 'A', 'A', 'B', 'B', 'B')) = \n",
      "[[ 0.72613771 -2.20291394]\n",
      " [-2.20291394  0.72613771]]\n",
      "--\n",
      "κ^(B)(('B', 'A', 'B', 'A', 'A', 'A')) = \n",
      "[[-2.26045477  0.32968604]\n",
      " [ 0.32968604 -2.26045477]]\n",
      "--\n",
      "κ^(B)(('B', 'A', 'B', 'A', 'A', 'B')) = \n",
      "[[-0.08985111 -0.91526487]\n",
      " [-0.91526487 -0.08985111]]\n",
      "--\n",
      "κ^(B)(('B', 'A', 'B', 'A', 'B', 'A')) = \n",
      "[[-0.96777849 -0.07292454]\n",
      " [-0.07292454 -0.96777849]]\n",
      "--\n",
      "κ^(B)(('B', 'A', 'B', 'A', 'B', 'B')) = \n",
      "[[-0.16710513  0.43120753]\n",
      " [ 0.43120753 -0.16710513]]\n",
      "--\n",
      "κ^(B)(('B', 'A', 'B', 'B', 'A', 'A')) = \n",
      "[[-0.08985111 -0.91526487]\n",
      " [-0.91526487 -0.08985111]]\n",
      "--\n",
      "κ^(B)(('B', 'A', 'B', 'B', 'A', 'B')) = \n",
      "[[-0.62071597  0.90261054]\n",
      " [ 0.90261054 -0.62071597]]\n",
      "--\n",
      "κ^(B)(('B', 'A', 'B', 'B', 'B', 'A')) = \n",
      "[[-0.16710513  0.43120753]\n",
      " [ 0.43120753 -0.16710513]]\n",
      "--\n",
      "κ^(B)(('B', 'A', 'B', 'B', 'B', 'B')) = \n",
      "[[-0.61993564 -1.65122296]\n",
      " [-1.65122296 -0.61993564]]\n",
      "--\n",
      "κ^(B)(('B', 'B', 'A', 'A', 'A', 'A')) = \n",
      "[[3.09424441 2.48790873]\n",
      " [2.48790873 3.09424441]]\n",
      "--\n",
      "κ^(B)(('B', 'B', 'A', 'A', 'A', 'B')) = \n",
      "[[-0.00161035  0.44422768]\n",
      " [ 0.44422768 -0.00161035]]\n",
      "--\n",
      "κ^(B)(('B', 'B', 'A', 'A', 'B', 'A')) = \n",
      "[[-0.08985111 -0.91526487]\n",
      " [-0.91526487 -0.08985111]]\n",
      "--\n",
      "κ^(B)(('B', 'B', 'A', 'A', 'B', 'B')) = \n",
      "[[ 0.72613771 -2.20291394]\n",
      " [-2.20291394  0.72613771]]\n",
      "--\n",
      "κ^(B)(('B', 'B', 'A', 'B', 'A', 'A')) = \n",
      "[[-0.08985111 -0.91526487]\n",
      " [-0.91526487 -0.08985111]]\n",
      "--\n",
      "κ^(B)(('B', 'B', 'A', 'B', 'A', 'B')) = \n",
      "[[-0.16710513  0.43120753]\n",
      " [ 0.43120753 -0.16710513]]\n",
      "--\n",
      "κ^(B)(('B', 'B', 'A', 'B', 'B', 'A')) = \n",
      "[[-0.62071597  0.90261054]\n",
      " [ 0.90261054 -0.62071597]]\n",
      "--\n",
      "κ^(B)(('B', 'B', 'A', 'B', 'B', 'B')) = \n",
      "[[-0.61993564 -1.65122296]\n",
      " [-1.65122296 -0.61993564]]\n",
      "--\n",
      "κ^(B)(('B', 'B', 'B', 'A', 'A', 'A')) = \n",
      "[[-0.00161035  0.44422768]\n",
      " [ 0.44422768 -0.00161035]]\n",
      "--\n",
      "κ^(B)(('B', 'B', 'B', 'A', 'A', 'B')) = \n",
      "[[ 0.72613771 -2.20291394]\n",
      " [-2.20291394  0.72613771]]\n",
      "--\n",
      "κ^(B)(('B', 'B', 'B', 'A', 'B', 'A')) = \n",
      "[[-0.16710513  0.43120753]\n",
      " [ 0.43120753 -0.16710513]]\n",
      "--\n",
      "κ^(B)(('B', 'B', 'B', 'A', 'B', 'B')) = \n",
      "[[-0.61993564 -1.65122296]\n",
      " [-1.65122296 -0.61993564]]\n",
      "--\n",
      "κ^(B)(('B', 'B', 'B', 'B', 'A', 'A')) = \n",
      "[[ 0.72613771 -2.20291394]\n",
      " [-2.20291394  0.72613771]]\n",
      "--\n",
      "κ^(B)(('B', 'B', 'B', 'B', 'A', 'B')) = \n",
      "[[-0.61993564 -1.65122296]\n",
      " [-1.65122296 -0.61993564]]\n",
      "--\n",
      "κ^(B)(('B', 'B', 'B', 'B', 'B', 'A')) = \n",
      "[[-0.61993564 -1.65122296]\n",
      " [-1.65122296 -0.61993564]]\n",
      "--\n"
     ]
    }
   ],
   "source": [
    "# calcular cumulantes mixtos de las variables\n",
    "ov_test = OV_Independence(A, B, d = 2, functional_phi = phi, product = multiply)\n",
    "res = ov_test.check_mixed_cumulants(max_order = 6, print_results = True)"
   ]
  },
  {
   "cell_type": "markdown",
   "id": "9a96285f",
   "metadata": {},
   "source": [
    "**Comprobar que mi codigo calcule las cosas correctamente.**"
   ]
  },
  {
   "cell_type": "code",
   "execution_count": 21,
   "id": "fcaf0220",
   "metadata": {},
   "outputs": [],
   "source": [
    "# Esperanza condicional: E = id tensor phi\n",
    "def Esperanza_condicional(A):\n",
    "    # esto es justamente F2\n",
    "    assert A.shape == (2*N, 2*N)\n",
    "    \n",
    "    # sacar los 4 bloques de NxN\n",
    "    A11 = A[0:N, 0:N]\n",
    "    A12 = A[0:N, N:2*N]\n",
    "    A21 = A[N:2*N, 0:N]\n",
    "    A22 = A[N:2*N, N:2*N]\n",
    "    # aplicar phi a cada uno\n",
    "    # no multiplico por la identidad para que se vea mas bonito\n",
    "    phi_A11 = phi(A11)\n",
    "    phi_A12 = phi(A12)\n",
    "    phi_A21 = phi(A21)\n",
    "    phi_A22 = phi(A22)\n",
    "    # juntar para crear el resultado\n",
    "    return np.array([[phi_A11, phi_A12], [phi_A21, phi_A22]])"
   ]
  },
  {
   "cell_type": "code",
   "execution_count": 22,
   "id": "4cf8947f",
   "metadata": {},
   "outputs": [
    {
     "name": "stdout",
     "output_type": "stream",
     "text": [
      "[[0.03692421 0.02940263]\n",
      " [0.02940263 0.03692421]]\n",
      "[[0.03692421 0.02940263]\n",
      " [0.02940263 0.03692421]]\n"
     ]
    }
   ],
   "source": [
    "# comprobar k(A, B)\n",
    "print(Esperanza_condicional(matriz_A @ matriz_B) - Esperanza_condicional(matriz_A) @ Esperanza_condicional(matriz_B))\n",
    "print(ov_test.evaluate_ov_cumulant((\"A\", \"B\")))"
   ]
  },
  {
   "cell_type": "code",
   "execution_count": 23,
   "id": "2121972d",
   "metadata": {},
   "outputs": [
    {
     "name": "stdout",
     "output_type": "stream",
     "text": [
      "[[ 3.33176148 -0.00467679]\n",
      " [-0.00467679  3.33176148]]\n",
      "[[ 3.33176148 -0.00467679]\n",
      " [-0.00467679  3.33176148]]\n"
     ]
    }
   ],
   "source": [
    "# comprobar k(A, A)\n",
    "print(Esperanza_condicional(matriz_A @ matriz_A) - Esperanza_condicional(matriz_A) @ Esperanza_condicional(matriz_A))\n",
    "print(ov_test.evaluate_ov_cumulant((\"A\", \"A\")))"
   ]
  },
  {
   "cell_type": "markdown",
   "id": "9432ad1d",
   "metadata": {},
   "source": [
    "**Ver numeros de ejeucciones**"
   ]
  },
  {
   "cell_type": "code",
   "execution_count": 24,
   "id": "bd1dcb71",
   "metadata": {},
   "outputs": [
    {
     "name": "stdout",
     "output_type": "stream",
     "text": [
      "Evalauciones de operated-value cumulantes: 115\n",
      "Evalauciones de cumulantes: 9114\n",
      "Evalauciones de phi: 9114\n"
     ]
    }
   ],
   "source": [
    "# ver cuantas evaluaciones de phi y de cumulantes\n",
    "print(f\"Evalauciones de operated-value cumulantes: {len(ov_test.ov_cumulant_evaluation)}\")\n",
    "print(f\"Evalauciones de cumulantes: {len(ov_test.cumulant_evaluation)}\")\n",
    "print(f\"Evalauciones de phi: {len(ov_test.phi_evaluation)}\")"
   ]
  },
  {
   "cell_type": "code",
   "execution_count": 25,
   "id": "3cadaab7",
   "metadata": {},
   "outputs": [
    {
     "name": "stdout",
     "output_type": "stream",
     "text": [
      "1\n",
      "115\n"
     ]
    }
   ],
   "source": [
    "# para los cumulantes operated value\n",
    "print(ov_test.ov_saved_cumulant_evaluation)\n",
    "print(ov_test.ov_not_saved_cumulant_evaluation)"
   ]
  },
  {
   "cell_type": "code",
   "execution_count": 26,
   "id": "3a73b69e",
   "metadata": {},
   "outputs": [
    {
     "name": "stdout",
     "output_type": "stream",
     "text": [
      "9114\n",
      "2585122\n"
     ]
    }
   ],
   "source": [
    "# para los cumulantes en los bloques\n",
    "print(ov_test.not_saved_cumulant_evaluation)\n",
    "print(ov_test.saved_cumulant_evaluation)"
   ]
  },
  {
   "cell_type": "markdown",
   "id": "f80afe7c",
   "metadata": {},
   "source": [
    "**Ver si las matrices a bloques son libres en el sentido escalar**"
   ]
  },
  {
   "cell_type": "code",
   "execution_count": 27,
   "id": "13e391c3",
   "metadata": {},
   "outputs": [],
   "source": [
    "# redefinir (mas general)\n",
    "def phi(Z):\n",
    "    return 1/(Z.shape[0]) * Z.trace()"
   ]
  },
  {
   "cell_type": "code",
   "execution_count": 28,
   "id": "296dcfd9",
   "metadata": {},
   "outputs": [
    {
     "name": "stdout",
     "output_type": "stream",
     "text": [
      "κ(('A', 'B')) = 1.0920628246872548\n",
      "κ(('A', 'A', 'B')) = 0.1204189633944992\n",
      "κ(('A', 'B', 'B')) = -0.05312534387354484\n",
      "κ(('A', 'A', 'A', 'B')) = 11.337810091992763\n",
      "κ(('A', 'A', 'B', 'B')) = 0.1266106051537782\n",
      "κ(('A', 'B', 'A', 'B')) = 6.015157383863778\n",
      "κ(('A', 'B', 'B', 'B')) = 4.186423788211523\n",
      "κ(('A', 'A', 'A', 'A', 'B')) = 2.635827874941505\n",
      "κ(('A', 'A', 'A', 'B', 'B')) = -0.022725704785415246\n",
      "κ(('A', 'A', 'B', 'A', 'B')) = 1.0872530833266936\n",
      "κ(('A', 'A', 'B', 'B', 'B')) = -0.07881635308191809\n",
      "κ(('A', 'B', 'A', 'B', 'B')) = 3.1134256313576643\n",
      "κ(('A', 'B', 'B', 'B', 'B')) = 5.271749606048455\n",
      "κ(('A', 'A', 'A', 'A', 'A', 'B')) = 159.9863119060992\n",
      "κ(('A', 'A', 'A', 'A', 'B', 'B')) = -5.194376332724737\n",
      "κ(('A', 'A', 'A', 'B', 'A', 'B')) = 50.24993593556749\n",
      "κ(('A', 'A', 'A', 'B', 'B', 'B')) = 46.618089726705904\n",
      "κ(('A', 'A', 'B', 'A', 'A', 'B')) = 27.90957876719069\n",
      "κ(('A', 'A', 'B', 'A', 'B', 'B')) = -2.8501503628560516\n",
      "κ(('A', 'A', 'B', 'B', 'A', 'B')) = -2.850150362856036\n",
      "κ(('A', 'A', 'B', 'B', 'B', 'B')) = -4.35593284530418\n",
      "κ(('A', 'B', 'A', 'B', 'A', 'B')) = 24.422151068465112\n",
      "κ(('A', 'B', 'A', 'B', 'B', 'B')) = 14.668170102598506\n",
      "κ(('A', 'B', 'B', 'A', 'B', 'B')) = 11.903392504863763\n",
      "κ(('A', 'B', 'B', 'B', 'B', 'B')) = 26.557050599243667\n"
     ]
    }
   ],
   "source": [
    "# calcular cumulantes mixtos de las matrices a bloques\n",
    "test = Free_Independence(matriz_A, matriz_B, functional_phi = phi, product = multiply)\n",
    "res = test.check_mixed_cumulants(max_order = 6, print_results = True)"
   ]
  }
 ],
 "metadata": {
  "kernelspec": {
   "display_name": "ds",
   "language": "python",
   "name": "ds"
  },
  "language_info": {
   "codemirror_mode": {
    "name": "ipython",
    "version": 3
   },
   "file_extension": ".py",
   "mimetype": "text/x-python",
   "name": "python",
   "nbconvert_exporter": "python",
   "pygments_lexer": "ipython3",
   "version": "3.12.2"
  }
 },
 "nbformat": 4,
 "nbformat_minor": 5
}
